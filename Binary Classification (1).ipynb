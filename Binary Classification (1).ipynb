{
 "cells": [
  {
   "cell_type": "code",
   "execution_count": null,
   "id": "1d33230a-b3d7-4e55-bccd-3d5b6a2a90e4",
   "metadata": {},
   "outputs": [],
   "source": [
    "import pandas as pd\n",
    "df = pd.read_csv('all_matched_transcript.csv')\n",
    "df.info()"
   ]
  },
  {
   "cell_type": "code",
   "execution_count": null,
   "id": "2063ae10-04d3-4136-82ba-58f8c29c8a4d",
   "metadata": {},
   "outputs": [],
   "source": [
    "df['label'] = df['label'].replace(-1, 0)"
   ]
  },
  {
   "cell_type": "code",
   "execution_count": null,
   "id": "3019f2d2-ff74-476e-b1cb-3ac0cb2f4f9b",
   "metadata": {},
   "outputs": [],
   "source": [
    "import torch\n",
    "import torch.nn as nn\n",
    "import torch.optim as optim\n",
    "import torch.nn.functional as F\n",
    "from torch.utils.data import Dataset, DataLoader\n",
    "\n",
    "from transformers import BertTokenizer,BertModel,BertConfig\n",
    "from transformers import AdamW, get_linear_schedule_with_warmup\n",
    "from transformers import BertPreTrainedModel\n",
    "from transformers import AutoConfig, AutoTokenizer\n",
    "from transformers import logging\n",
    "logging.set_verbosity_error()\n",
    "\n",
    "from sklearn import metrics\n",
    "from sklearn.model_selection import train_test_split\n",
    "from tqdm import tqdm, trange"
   ]
  },
  {
   "cell_type": "code",
   "execution_count": null,
   "id": "d4b89302-577c-4146-8994-9014cff53d6e",
   "metadata": {},
   "outputs": [],
   "source": [
    "train, test =  train_test_split(df,test_size=0.2,random_state=42)\n",
    "\n",
    "x_train= list(train['preprocessed_componenttext'])\n",
    "y_train= list(train['label'])\n",
    "x_test= list(test['preprocessed_componenttext'])\n",
    "y_test = list(test['label'])"
   ]
  },
  {
   "cell_type": "code",
   "execution_count": null,
   "id": "ee9da4d9-1b67-4a72-8015-f2dc80320167",
   "metadata": {},
   "outputs": [],
   "source": [
    "tokenizer = AutoTokenizer.from_pretrained('./autodl-tmp/bert-base-uncased')\n",
    "train_encoding = tokenizer(x_train, truncation=True, padding=True, max_length=512)\n",
    "test_encoding = tokenizer(x_test, truncation=True, padding=True, max_length=512)"
   ]
  },
  {
   "cell_type": "code",
   "execution_count": null,
   "id": "a3a3b03d-177f-4ba8-98b3-0e0d9edd0d0b",
   "metadata": {},
   "outputs": [],
   "source": [
    "class NewsDataset(Dataset):\n",
    "    def __init__(self, encodings, labels):\n",
    "        self.encodings = encodings\n",
    "        self.labels = labels\n",
    "    \n",
    "    def __getitem__(self, idx):\n",
    "        item = {key: torch.tensor(val[idx]) for key, val in self.encodings.items()}\n",
    "        item['labels'] = torch.tensor(float(self.labels[idx]))\n",
    "        return item\n",
    "    \n",
    "    def __len__(self):\n",
    "        return len(self.labels)\n",
    "train_dataset = NewsDataset(train_encoding, y_train)\n",
    "test_dataset = NewsDataset(test_encoding, y_test)\n",
    "\n",
    "train_loader = DataLoader(train_dataset, batch_size=16, shuffle=True)\n",
    "test_dataloader = DataLoader(test_dataset, batch_size=16, shuffle=True)"
   ]
  },
  {
   "cell_type": "code",
   "execution_count": null,
   "id": "57b15816-3435-4b70-be33-28bc4d36a59f",
   "metadata": {},
   "outputs": [],
   "source": [
    "#freeze the parameter of pretrained BERT model\n",
    "class my_bert_model(nn.Module):\n",
    "    def __init__(self, freeze_bert=True, hidden_size=768):\n",
    "        super().__init__()\n",
    "        config = AutoConfig.from_pretrained('./autodl-tmp/bert-base-uncased')\n",
    "        self.bert = BertModel(config)\n",
    "        config.update({'output_hidden_states':True})\n",
    "        self.cls_layer1 = nn.Linear(config.hidden_size,128)\n",
    "        self.relu1 = nn.ReLU()\n",
    "        self.ff1 = nn.Linear(128,32)\n",
    "        self.relu2 = nn.ReLU()\n",
    "        self.ff2 = nn.Linear(32,1)\n",
    "\n",
    "        if freeze_bert:\n",
    "            for p in self.bert.parameters():\n",
    "                p.requires_grad = False\n",
    "    \n",
    "    def forward(self, input_ids, attention_mask):\n",
    "        outputs = self.bert(input_ids, attention_mask)\n",
    "        all_hidden_states = torch.stack(outputs[2])  \n",
    "        logits = outputs.last_hidden_state[:,0,:]\n",
    "        output = self.cls_layer1(logits)\n",
    "        output = self.relu1(output)\n",
    "        output = self.ff1(output)\n",
    "        output = self.relu2(output)\n",
    "        output = self.ff2(output)\n",
    "        return output"
   ]
  },
  {
   "cell_type": "code",
   "execution_count": null,
   "id": "226aed85-86b9-4697-a970-1d9fa9d710f2",
   "metadata": {},
   "outputs": [],
   "source": [
    "device = torch.device(\"cuda\" if torch.cuda.is_available() else \"cpu\")\n",
    "print(device,'能用')"
   ]
  },
  {
   "cell_type": "code",
   "execution_count": null,
   "id": "7227725e-32a0-462d-8fb9-fc313a3efb63",
   "metadata": {},
   "outputs": [],
   "source": [
    "model = my_bert_model().to(device)\n",
    "criterion = nn.BCEWithLogitsLoss().to(device)"
   ]
  },
  {
   "cell_type": "code",
   "execution_count": null,
   "id": "d1342529-f72c-4b00-9e16-a61dc16ce49f",
   "metadata": {},
   "outputs": [],
   "source": [
    "optim = AdamW(filter(lambda p: p.requires_grad, model.parameters()), lr=1e-5)\n",
    "total_steps = len(train_loader) * 1\n",
    "scheduler = get_linear_schedule_with_warmup(optim, num_warmup_steps = 0,\n",
    "                        num_training_steps = total_steps)"
   ]
  },
  {
   "cell_type": "code",
   "execution_count": null,
   "id": "191111c6-9e3c-43d6-aa8e-471c8cad2145",
   "metadata": {},
   "outputs": [],
   "source": [
    "def train():\n",
    "    model.train()\n",
    "    total_train_loss = 0\n",
    "    iter_num = 0\n",
    "    total_iter = len(train_loader)\n",
    "    for batch in train_loader:\n",
    "\n",
    "        optim.zero_grad()\n",
    "        input_ids = batch['input_ids'].to(device)\n",
    "        attention_mask = batch['attention_mask'].to(device)\n",
    "        labels = batch['labels'].to(device)\n",
    "        outputs = model(input_ids, attention_mask=attention_mask)\n",
    "        \n",
    "        labels = labels.view(-1, 1)\n",
    "        \n",
    "        loss = criterion(outputs, labels)                \n",
    "        total_train_loss += loss.item()\n",
    "           \n",
    "        loss.backward()\n",
    "        nn.utils.clip_grad_norm_(model.parameters(), 1.0)  \n",
    "        \n",
    "\n",
    "        optim.step()\n",
    "        scheduler.step()\n",
    "\n",
    "        iter_num += 1\n",
    "        if(iter_num % 1000==0):\n",
    "            print(\"epoth: %d, iter_num: %d, loss: %.4f, %.2f%%\" % (epoch, iter_num, loss.item(), iter_num/total_iter*100))\n",
    "        \n",
    "    print(\"Epoch: %d, Average training loss: %.4f\"%(epoch, total_train_loss/len(train_loader)))"
   ]
  },
  {
   "cell_type": "code",
   "execution_count": null,
   "id": "91d1e74a-d0f2-4e0a-b589-2f9eab3ca15f",
   "metadata": {},
   "outputs": [],
   "source": [
    "def validation():\n",
    "    model.eval()\n",
    "    total_eval_accuracy = 0\n",
    "    total_eval_loss = 0\n",
    "    predicted_label = []\n",
    "    with torch.no_grad():\n",
    "        for batch in test_dataloader:\n",
    "\n",
    "            input_ids = batch['input_ids'].to(device)\n",
    "            attention_mask = batch['attention_mask'].to(device)\n",
    "            labels = batch['labels'].to(device)\n",
    "            outputs = model(input_ids, attention_mask=attention_mask)\n",
    "            predicted_label += outputs\n",
    "            \n",
    "            labels = labels.view(-1, 1)\n",
    "        \n",
    "            loss = criterion(outputs, labels)\n",
    "            logits = outputs\n",
    "\n",
    "            total_eval_loss += loss.item()\n",
    "            logits = logits.detach().cpu().numpy()\n",
    "            label_ids = labels.to('cpu').numpy()\n",
    "            \n",
    "    print(\"Average testing loss: %.4f\"%(total_eval_loss/len(test_dataloader)))\n",
    "    print(\"-------------------------------\")\n",
    "    return predicted_label"
   ]
  },
  {
   "cell_type": "code",
   "execution_count": null,
   "id": "618eb4a1-f9d1-46b3-a9c1-ce7c1e68889c",
   "metadata": {},
   "outputs": [],
   "source": [
    "for epoch in range(5):\n",
    "    print(\"------------Epoch: %d ----------------\" % epoch)\n",
    "    train()\n",
    "    pred=validation()"
   ]
  }
 ],
 "metadata": {
  "kernelspec": {
   "display_name": "Python 3 (ipykernel)",
   "language": "python",
   "name": "python3"
  },
  "language_info": {
   "codemirror_mode": {
    "name": "ipython",
    "version": 3
   },
   "file_extension": ".py",
   "mimetype": "text/x-python",
   "name": "python",
   "nbconvert_exporter": "python",
   "pygments_lexer": "ipython3",
   "version": "3.8.10"
  }
 },
 "nbformat": 4,
 "nbformat_minor": 5
}
